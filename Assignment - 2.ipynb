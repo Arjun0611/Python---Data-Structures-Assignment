{
 "cells": [
  {
   "cell_type": "code",
   "execution_count": 7,
   "id": "93e8b97a-166b-49b1-9948-490a0012c4c2",
   "metadata": {},
   "outputs": [],
   "source": [
    "#Q1.\n",
    "#There are two types of comments that can be used to document the code."
   ]
  },
  {
   "cell_type": "code",
   "execution_count": 8,
   "id": "e034e5d0-67ae-44a5-910b-05e37182e79c",
   "metadata": {},
   "outputs": [],
   "source": [
    "#Type 1: This is a single-line comment."
   ]
  },
  {
   "cell_type": "code",
   "execution_count": 1,
   "id": "e77b14b0-59bc-4daf-afed-c637b5d6beb4",
   "metadata": {},
   "outputs": [
    {
     "data": {
      "text/plain": [
       "'Type 2: This is a multi-line comments.\\nThis type of comment structure could be used when one wishes to accompany more than one line of comment.\\n'"
      ]
     },
     "execution_count": 1,
     "metadata": {},
     "output_type": "execute_result"
    }
   ],
   "source": [
    "\"\"\"Type 2: This is a multi-line comments.\n",
    "This type of comment structure could be used when one wishes to accompany more than one line of comment.\n",
    "\"\"\""
   ]
  },
  {
   "cell_type": "code",
   "execution_count": 12,
   "id": "d4b1aab8-a397-4a52-9c01-637fb0e79f55",
   "metadata": {},
   "outputs": [
    {
     "name": "stdout",
     "output_type": "stream",
     "text": [
      "RTCU\n",
      "32\n",
      "True\n"
     ]
    }
   ],
   "source": [
    "# Q2: Variables are used to store and refer to data values. A variable is like a container that holds a value.\n",
    "# Some examples showcasing the declaration of a varible and the assignment of a value to it.\n",
    "string_variable = \"RTCU\"\n",
    "integer_variable = 32\n",
    "boolean_variable = True\n",
    "print(string_variable)\n",
    "print(integer_variable)\n",
    "print(boolean_variable)"
   ]
  },
  {
   "cell_type": "code",
   "execution_count": 41,
   "id": "52bcf7ee-670d-42d8-b21c-63bf688aff63",
   "metadata": {},
   "outputs": [],
   "source": [
    "#Q3.  Some examples of converting one data type to another.\n",
    "x = str(32)\n",
    "y = str(True)\n",
    "z = str(35.8)\n",
    "a = int(3.14)\n",
    "b = int(True)\n",
    "c = int('10')\n",
    "p = float(10)\n",
    "q = float(True)\n",
    "r = float('426')\n",
    "m = list((1,2,3))\n",
    "n = list(\"How are you?\")\n",
    "o = tuple([1,2,3])\n",
    "s = tuple(\"Doing Great!\")"
   ]
  },
  {
   "cell_type": "code",
   "execution_count": 44,
   "id": "f8934657-2e16-4d3e-a37b-c3d233b4ef15",
   "metadata": {},
   "outputs": [
    {
     "data": {
      "text/plain": [
       "'32'"
      ]
     },
     "execution_count": 44,
     "metadata": {},
     "output_type": "execute_result"
    }
   ],
   "source": [
    "x"
   ]
  },
  {
   "cell_type": "code",
   "execution_count": 45,
   "id": "3675c447-22c3-4b4f-9336-ca1b3b68710e",
   "metadata": {},
   "outputs": [
    {
     "data": {
      "text/plain": [
       "'True'"
      ]
     },
     "execution_count": 45,
     "metadata": {},
     "output_type": "execute_result"
    }
   ],
   "source": [
    "y"
   ]
  },
  {
   "cell_type": "code",
   "execution_count": 46,
   "id": "9930af3e-6ec1-4578-aa3f-76f6f910e2ca",
   "metadata": {},
   "outputs": [
    {
     "data": {
      "text/plain": [
       "'35.8'"
      ]
     },
     "execution_count": 46,
     "metadata": {},
     "output_type": "execute_result"
    }
   ],
   "source": [
    "z"
   ]
  },
  {
   "cell_type": "code",
   "execution_count": 47,
   "id": "1a96747a-199d-4caf-be8e-e4b1b68eefcb",
   "metadata": {},
   "outputs": [
    {
     "data": {
      "text/plain": [
       "3"
      ]
     },
     "execution_count": 47,
     "metadata": {},
     "output_type": "execute_result"
    }
   ],
   "source": [
    "a"
   ]
  },
  {
   "cell_type": "code",
   "execution_count": 48,
   "id": "88e652b1-c6f2-437a-b39f-5b7ff9a8bd95",
   "metadata": {},
   "outputs": [
    {
     "data": {
      "text/plain": [
       "1"
      ]
     },
     "execution_count": 48,
     "metadata": {},
     "output_type": "execute_result"
    }
   ],
   "source": [
    "b"
   ]
  },
  {
   "cell_type": "code",
   "execution_count": 49,
   "id": "1766d253-2d83-4732-a704-873fd3536026",
   "metadata": {},
   "outputs": [
    {
     "data": {
      "text/plain": [
       "10"
      ]
     },
     "execution_count": 49,
     "metadata": {},
     "output_type": "execute_result"
    }
   ],
   "source": [
    "c"
   ]
  },
  {
   "cell_type": "code",
   "execution_count": 50,
   "id": "aa98a0f0-2a92-46d5-89ca-50f94bb4ad45",
   "metadata": {},
   "outputs": [
    {
     "data": {
      "text/plain": [
       "10.0"
      ]
     },
     "execution_count": 50,
     "metadata": {},
     "output_type": "execute_result"
    }
   ],
   "source": [
    "p"
   ]
  },
  {
   "cell_type": "code",
   "execution_count": 51,
   "id": "264737de-7f67-43fe-9c10-030a261f5ad5",
   "metadata": {},
   "outputs": [
    {
     "data": {
      "text/plain": [
       "1.0"
      ]
     },
     "execution_count": 51,
     "metadata": {},
     "output_type": "execute_result"
    }
   ],
   "source": [
    "q"
   ]
  },
  {
   "cell_type": "code",
   "execution_count": 52,
   "id": "9489daf9-bac0-4827-bd42-3ca333e3daac",
   "metadata": {},
   "outputs": [
    {
     "data": {
      "text/plain": [
       "426.0"
      ]
     },
     "execution_count": 52,
     "metadata": {},
     "output_type": "execute_result"
    }
   ],
   "source": [
    "r"
   ]
  },
  {
   "cell_type": "code",
   "execution_count": 53,
   "id": "2cd4084d-f665-4e08-a50e-229fcce36740",
   "metadata": {},
   "outputs": [
    {
     "data": {
      "text/plain": [
       "[1, 2, 3]"
      ]
     },
     "execution_count": 53,
     "metadata": {},
     "output_type": "execute_result"
    }
   ],
   "source": [
    "m"
   ]
  },
  {
   "cell_type": "code",
   "execution_count": 54,
   "id": "7778b2e7-9fe1-449a-8c4e-19a708357005",
   "metadata": {},
   "outputs": [
    {
     "data": {
      "text/plain": [
       "['H', 'o', 'w', ' ', 'a', 'r', 'e', ' ', 'y', 'o', 'u', '?']"
      ]
     },
     "execution_count": 54,
     "metadata": {},
     "output_type": "execute_result"
    }
   ],
   "source": [
    "n"
   ]
  },
  {
   "cell_type": "code",
   "execution_count": 55,
   "id": "5592acd6-349e-41b6-81b0-349c5cb355ae",
   "metadata": {},
   "outputs": [
    {
     "data": {
      "text/plain": [
       "(1, 2, 3)"
      ]
     },
     "execution_count": 55,
     "metadata": {},
     "output_type": "execute_result"
    }
   ],
   "source": [
    "o"
   ]
  },
  {
   "cell_type": "code",
   "execution_count": 56,
   "id": "ccf37d83-50e5-4665-ad1c-1502e5197110",
   "metadata": {},
   "outputs": [
    {
     "data": {
      "text/plain": [
       "('D', 'o', 'i', 'n', 'g', ' ', 'G', 'r', 'e', 'a', 't', '!')"
      ]
     },
     "execution_count": 56,
     "metadata": {},
     "output_type": "execute_result"
    }
   ],
   "source": [
    "s"
   ]
  },
  {
   "cell_type": "code",
   "execution_count": null,
   "id": "451c3038-d0d6-4b76-903f-dc19539cf96e",
   "metadata": {},
   "outputs": [],
   "source": [
    "#Q4. Here's how one can execute a Python script from the command line.\n",
    "\"\"\" Navigate to the directory where your Python script is saved using the cd command. \n",
    "Once you are in the appropriate directory, you can execute your Python script by running the following command.\n",
    "\n",
    "For example, if your script is saved in the Documents folder.\n",
    "cd Documents\n",
    "python your_file_name.py \n",
    "\n",
    "Note: your_file_name is variable"
   ]
  },
  {
   "cell_type": "code",
   "execution_count": 124,
   "id": "264ee447-9169-40a9-b083-9754291b666c",
   "metadata": {},
   "outputs": [],
   "source": [
    "#Q5.\n",
    "my_list = [1, 2, 3, 4, 5]"
   ]
  },
  {
   "cell_type": "code",
   "execution_count": 125,
   "id": "248cfebc-c885-45ae-a321-43226d9611a7",
   "metadata": {},
   "outputs": [
    {
     "name": "stdout",
     "output_type": "stream",
     "text": [
      "[2, 3]\n"
     ]
    }
   ],
   "source": [
    "sliced_list = my_list[1:3]\n",
    "print(sliced_list)"
   ]
  },
  {
   "cell_type": "code",
   "execution_count": 126,
   "id": "29a5eea5-89d2-4589-aac8-0099c875ce8e",
   "metadata": {},
   "outputs": [],
   "source": [
    "# or this could also be executed by defining a list.\n",
    "my_list = [1, 2, 3, 4, 5]\n",
    "def extract_elements():\n",
    "    new_list = []\n",
    "    for i in range(1,3):\n",
    "        new_list.append(my_list[i])\n",
    "    return new_list"
   ]
  },
  {
   "cell_type": "code",
   "execution_count": 127,
   "id": "8997f485-117f-4273-80ef-49bd49718c38",
   "metadata": {},
   "outputs": [
    {
     "data": {
      "text/plain": [
       "[2, 3]"
      ]
     },
     "execution_count": 127,
     "metadata": {},
     "output_type": "execute_result"
    }
   ],
   "source": [
    "extract_elements()"
   ]
  },
  {
   "cell_type": "code",
   "execution_count": 129,
   "id": "e598b593-c28d-423f-857e-af91b4f2834c",
   "metadata": {},
   "outputs": [
    {
     "data": {
      "text/plain": [
       "(5+3j)"
      ]
     },
     "execution_count": 129,
     "metadata": {},
     "output_type": "execute_result"
    }
   ],
   "source": [
    "#Q6.\n",
    "#In mathematics, a complex number is a number that comprises both a real part and an imaginary part.\n",
    "5 + 3j #where 5 is real number and 3 is imaginary number"
   ]
  },
  {
   "cell_type": "code",
   "execution_count": 131,
   "id": "d2d49d03-ad6b-493a-8d80-c520ba15ee89",
   "metadata": {},
   "outputs": [
    {
     "data": {
      "text/plain": [
       "25"
      ]
     },
     "execution_count": 131,
     "metadata": {},
     "output_type": "execute_result"
    }
   ],
   "source": [
    "#Q7.\n",
    "age = 25\n",
    "age"
   ]
  },
  {
   "cell_type": "code",
   "execution_count": 132,
   "id": "6a553c70-f73e-43a1-83a6-4e8c2802de15",
   "metadata": {},
   "outputs": [
    {
     "data": {
      "text/plain": [
       "float"
      ]
     },
     "execution_count": 132,
     "metadata": {},
     "output_type": "execute_result"
    }
   ],
   "source": [
    "#Q8.\n",
    "price = 9.99\n",
    "type(price)"
   ]
  },
  {
   "cell_type": "code",
   "execution_count": 134,
   "id": "ef827714-0197-48d4-b237-f182d231d578",
   "metadata": {},
   "outputs": [
    {
     "name": "stdout",
     "output_type": "stream",
     "text": [
      "Arjun Patel\n"
     ]
    }
   ],
   "source": [
    "#Q9.\n",
    "name = \"Arjun Patel\"\n",
    "print(name)"
   ]
  },
  {
   "cell_type": "code",
   "execution_count": 147,
   "id": "513e46a0-4d5a-4cba-b229-c914f6ce8467",
   "metadata": {},
   "outputs": [
    {
     "data": {
      "text/plain": [
       "'World'"
      ]
     },
     "execution_count": 147,
     "metadata": {},
     "output_type": "execute_result"
    }
   ],
   "source": [
    "#Q10.\n",
    "a = \"Hello World!\"\n",
    "a[6:11:1]"
   ]
  },
  {
   "cell_type": "code",
   "execution_count": 148,
   "id": "38158e56-cff3-4a3a-a5e6-5b1b9bc2854d",
   "metadata": {},
   "outputs": [
    {
     "name": "stdout",
     "output_type": "stream",
     "text": [
      "True\n"
     ]
    }
   ],
   "source": [
    "#Q11.\n",
    "is_student = True\n",
    "print(is_student)"
   ]
  }
 ],
 "metadata": {
  "kernelspec": {
   "display_name": "Python 3 (ipykernel)",
   "language": "python",
   "name": "python3"
  },
  "language_info": {
   "codemirror_mode": {
    "name": "ipython",
    "version": 3
   },
   "file_extension": ".py",
   "mimetype": "text/x-python",
   "name": "python",
   "nbconvert_exporter": "python",
   "pygments_lexer": "ipython3",
   "version": "3.10.8"
  }
 },
 "nbformat": 4,
 "nbformat_minor": 5
}
